{
 "cells": [
  {
   "cell_type": "code",
   "execution_count": 1,
   "id": "5a2d1e75",
   "metadata": {},
   "outputs": [],
   "source": [
    "import numpy as np"
   ]
  },
  {
   "cell_type": "code",
   "execution_count": 2,
   "id": "dfadf064",
   "metadata": {},
   "outputs": [],
   "source": [
    "base_path='C:/Users/lliu10/OneDrive - Inside MD Anderson/siemenproject/data/'\n",
    "data=np.load(base_path+'SiemensCiosSpin_Siemens.npz')"
   ]
  },
  {
   "cell_type": "code",
   "execution_count": 5,
   "id": "9ff2401a",
   "metadata": {},
   "outputs": [
    {
     "data": {
      "text/plain": [
       "['ProjectionMatrices', 'RotorAngles']"
      ]
     },
     "execution_count": 5,
     "metadata": {},
     "output_type": "execute_result"
    }
   ],
   "source": [
    "data.files"
   ]
  },
  {
   "cell_type": "code",
   "execution_count": 4,
   "id": "92eb5831",
   "metadata": {},
   "outputs": [],
   "source": [
    "def generate_projection_matrix_Siemens(filename, panel_spacing, panel_dimensions, **kwargs):\n",
    "    ''' Siemens Geometry from Cios. Load from npz file '''\n",
    "    transform_wcs = kwargs.pop('transform_wcs', affine(rotation=(0,0,0)))\n",
    "    if kwargs:\n",
    "        raise TypeError(f\"{kwargs.keys()} are invalid keyword arguments\")\n",
    "\n",
    "    filename = pathlib.Path(filename)\n",
    "    if filename.suffix == '.npz':\n",
    "        with np.load(str(filename)) as f:\n",
    "            pmatrices, encoder_angles = f['ProjectionMatrices'], f['RotorAngles']\n",
    "    elif filename.suffix == '.xml':\n",
    "        f, _ = read_geometry_xml(filename)\n",
    "        pmatrices, encoder_angles = f['ProjectionMatrices'], f['RotorAngles']\n",
    "    else:\n",
    "        raise NotImplementedError('Unknown file extension.')\n",
    "\n",
    "    pmatrices = np.array([np.linalg.multi_dot([\n",
    "                          t3d.axangles.axangle2mat([0, 0, 1], np.pi),  # rotate detector\n",
    "                          t3d.axangles.axangle2mat([0, 1, 0], np.pi),  # flip ray direction\n",
    "                          t3d.affines.compose((0,0), np.eye(2,2), panel_spacing[:2]),  # px to mm\n",
    "                          t3d.affines.compose(np.array(panel_dimensions[:2]) / -2, np.eye(2,2), (1,1)),  # corner to center\n",
    "                          x,\n",
    "                          transform_wcs]) for x in pmatrices])\n",
    "    return pmatrices, encoder_angles\n"
   ]
  },
  {
   "cell_type": "code",
   "execution_count": null,
   "id": "00fd13ad",
   "metadata": {},
   "outputs": [],
   "source": []
  }
 ],
 "metadata": {
  "kernelspec": {
   "display_name": "Python 3 (ipykernel)",
   "language": "python",
   "name": "python3"
  },
  "language_info": {
   "codemirror_mode": {
    "name": "ipython",
    "version": 3
   },
   "file_extension": ".py",
   "mimetype": "text/x-python",
   "name": "python",
   "nbconvert_exporter": "python",
   "pygments_lexer": "ipython3",
   "version": "3.9.16"
  }
 },
 "nbformat": 4,
 "nbformat_minor": 5
}
